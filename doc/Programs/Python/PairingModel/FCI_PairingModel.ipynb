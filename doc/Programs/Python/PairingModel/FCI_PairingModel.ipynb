{
 "cells": [
  {
   "cell_type": "code",
   "execution_count": 1,
   "metadata": {
    "collapsed": true
   },
   "outputs": [],
   "source": [
    "# Program diagonalizes the pairing problem from Chapter 8 of Lectures Notes in Physics 936.\n",
    "# The simple and direct implementation does not exploit the sparsity of the problem, which \n",
    "#    limits its applicability to matrix dimensions of a few thousands only.  \n",
    "#\n",
    "# Thomas Papenbrock, July 2018\n",
    "\n",
    "import numpy as np\n",
    "\n",
    "def find_configurations(levels,pairs):\n",
    "    \"\"\"\n",
    "    Function enumerates and indentifies all ways to distribute pairs over levels.\n",
    "    Its cost is 2**levels.\n",
    "    \n",
    "    param levels               : number of doubly degenerate levels\n",
    "    param pairs                : number of pairs\n",
    "    return num_states, configs : number of configurations, list of strings corresponding to configurations\n",
    "    \"\"\"\n",
    "# enumerate and indentify all states. Procedure: In second quantization, levels are occupied (1) or unoccupied (0), \n",
    "# making each configuration a string of bits.\n",
    "# Idea: loop over all relevant numbers from 1 to 2**levels, convert to a binary number (represented as a string)\n",
    "    num_states=0\n",
    "    configs=[]\n",
    "    for n in range(2**levels):  # loop over all integers consisting of as many bits as there are levels.   \n",
    "        binary=format(n,'b')  # converts integer to binary string\n",
    "        if binary.count(\"1\") == pairs: # decide whether there are as many bits set as there are pairs \n",
    "            num_states= num_states +1 \n",
    "            configs.append(binary)\n",
    "        \n",
    "    return num_states, configs\n",
    "\n",
    "\n",
    "def strings_to_numpy_array(configs):\n",
    "    \"\"\"\n",
    "    Converts strings corresponding to configurations to numpy arrays for further processing\n",
    "    \n",
    "    param configs     : list of strings of 1s and 0s.\n",
    "    return vec_configs: list of numpy arrays (vectors) corresponding to strings\n",
    "    \"\"\"\n",
    "    # convert configurations for further processing as numpy arrays\n",
    "    vec_configs=[]\n",
    "    for config in configs:\n",
    "        mylen=len(config)\n",
    "        vec=np.zeros(levels, dtype=int) #numpy array of integers, set to zero\n",
    "        for i, letter in enumerate(config):\n",
    "            if letter == '1': vec[mylen-1-i]=1  # store in reverse order\n",
    "        vec_configs.append(vec)\n",
    "\n",
    "    return vec_configs\n",
    "\n",
    "def connected_by_pairing_interaction(config1, config2):\n",
    "    \"\"\"\n",
    "    Tests if config1 and config2 differ by the occupation of one pair\n",
    "    \n",
    "    param confi1, config2: numpy arrays of 1s and 0s\n",
    "    return               : True or False\n",
    "    \"\"\"\n",
    "    pairs_in_config1 = np.dot(config1,config1)\n",
    "    pairs_in_config2 = np.dot(config2,config2)\n",
    "    if pairs_in_config1 != pairs_in_config2: # states should not have different particle numbers\n",
    "        return False\n",
    "    common = np.dot(config1,config2) # number of common occupied levels\n",
    "    if common == pairs_in_config1 - 1: #configs differ by one pair\n",
    "        return True\n",
    "    \n",
    "def get_hamiltonian(delta,g_pair,vec_configs):\n",
    "    \"\"\"\n",
    "    Computes the Hamiltonian matrix for pairing problem.\n",
    "    \n",
    "    param delta        : level spacing\n",
    "    param g_pair       : pairing strength\n",
    "    param vec_configs  : configurations in Hilbert space\n",
    "    return hamiltonian : numpy array of Hamiltonian matrix \n",
    "    \"\"\"\n",
    "    num_states = len(vec_configs)\n",
    "    hamiltonian=np.zeros((num_states,num_states),order='F')\n",
    "    # off-diagonal matrix elements\n",
    "    for i, config1 in enumerate(vec_configs):\n",
    "        for j, config2 in enumerate(vec_configs):\n",
    "            if connected_by_pairing_interaction(config1, config2):\n",
    "                hamiltonian[j,i]= -0.5*g_pair\n",
    "    # diagonal matrix elements\n",
    "    for i, config in enumerate(vec_configs):\n",
    "        hamiltonian[i,i]=0.0\n",
    "        for j, occ in enumerate(config):\n",
    "            hamiltonian[i,i] = hamiltonian[i,i] + (2*j*delta - 0.5*g_pair)*occ\n",
    "        \n",
    "    return hamiltonian"
   ]
  },
  {
   "cell_type": "code",
   "execution_count": 6,
   "metadata": {
    "collapsed": false
   },
   "outputs": [
    {
     "name": "stdout",
     "output_type": "stream",
     "text": [
      "dimension of Hilbert space: 924\n",
      "reference energy: 27.0\n",
      "gs energy: 24.8391727485\n",
      "correlation energy: -2.16082725155\n"
     ]
    }
   ],
   "source": [
    "######## main program starts here\n",
    "\n",
    "# input parameters for basis\n",
    "pairs  = 6  # the number of pairs; equals 2 in Lecture Notes of Physics 936\n",
    "levels = 12  # the number of doubly degenerate levels; equals 4 in Lecture Notes of Physics 936\n",
    "\n",
    "# get configurations\n",
    "num_states, configs = find_configurations(levels,pairs)\n",
    "\n",
    "print('dimension of Hilbert space:', num_states)\n",
    "if num_states <= 10: print(configs)\n",
    "\n",
    "# convert to numpy arrays\n",
    "vec_configs = strings_to_numpy_array(configs)\n",
    "if num_states <= 10: print(vec_configs)\n",
    "\n",
    "\n",
    "# parameters of the Hamiltonian\n",
    "g_pair = 1.0\n",
    "delta = 1.0\n",
    "\n",
    "if num_states < 10000: # build and fully diagonalize Hamiltonian \n",
    "    hamiltonian = get_hamiltonian(delta,g_pair,vec_configs)\n",
    "    if num_states <= 10: print(hamiltonian)\n",
    "\n",
    "    e_ref = hamiltonian[0,0]\n",
    "    print(\"reference energy:\", e_ref)\n",
    "\n",
    "    vals, vecs = np.linalg.eigh(hamiltonian)\n",
    "    print('gs energy:', vals[0])\n",
    "\n",
    "    e_corr = vals[0]-e_ref\n",
    "    print('correlation energy:', e_corr)\n",
    "    \n",
    "else: print('dimension too large for full diagonalization:', num_states)"
   ]
  },
  {
   "cell_type": "code",
   "execution_count": 3,
   "metadata": {
    "collapsed": false
   },
   "outputs": [
    {
     "name": "stdout",
     "output_type": "stream",
     "text": [
      "Populating the interactive namespace from numpy and matplotlib\n"
     ]
    },
    {
     "data": {
      "image/png": "[encoded data removed]",
      "text/plain": [
       "<matplotlib.figure.Figure at 0x1043f8c50>"
      ]
     },
     "metadata": {},
     "output_type": "display_data"
    }
   ],
   "source": [
    "# Plot of the correlation energy as in Chapter 8 of Lectures Notes in Physics 936\n",
    "\n",
    "import matplotlib.pyplot as plt\n",
    "\n",
    "%pylab inline\n",
    "\n",
    "# input parameters for basis\n",
    "pairs  = 2  # the number of pairs\n",
    "levels = 4  # the number of doubly degenerate levels\n",
    "\n",
    "# get configurations\n",
    "num_states, configs = find_configurations(levels,pairs)\n",
    "\n",
    "# convert to numpy arrays\n",
    "vec_configs = strings_to_numpy_array(configs)\n",
    "\n",
    "\n",
    "# parameters of the Hamiltonian, make plots\n",
    "delta = 1.0\n",
    "g_pair = np.linspace(-1.0, 1.0, 201)\n",
    "e_corr = np.zeros_like(g_pair)\n",
    "\n",
    "\n",
    "\n",
    "for i, gg in enumerate(g_pair):\n",
    "    hamiltonian = get_hamiltonian(delta,gg,vec_configs)\n",
    "    e_ref = hamiltonian[0,0]\n",
    "    vals, vecs = np.linalg.eigh(hamiltonian) # diagonalize\n",
    "    e_corr[i] = vals[0]-e_ref #correlation energy\n",
    "\n",
    "\n",
    "plt.plot(g_pair,e_corr)\n",
    "plt.show()"
   ]
  },
  {
   "cell_type": "code",
   "execution_count": null,
   "metadata": {
    "collapsed": true
   },
   "outputs": [],
   "source": []
  }
 ],
 "metadata": {
  "kernelspec": {
   "display_name": "Python 3",
   "language": "python",
   "name": "python3"
  },
  "language_info": {
   "codemirror_mode": {
    "name": "ipython",
    "version": 3
   },
   "file_extension": ".py",
   "mimetype": "text/x-python",
   "name": "python",
   "nbconvert_exporter": "python",
   "pygments_lexer": "ipython3",
   "version": "3.5.2"
  }
 },
 "nbformat": 4,
 "nbformat_minor": 0
}
