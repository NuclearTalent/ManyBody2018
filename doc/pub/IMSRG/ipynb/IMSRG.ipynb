{
 "cells": [
  {
   "cell_type": "markdown",
   "metadata": {},
   "source": [
    "# Relevant IMSRG equations\n",
    "\n",
    "Normal-ordered operators:"
   ]
  },
  {
   "cell_type": "markdown",
   "metadata": {},
   "source": [
    "<!-- Equation labels as ordinary links -->\n",
    "<div id=\"_auto1\"></div>\n",
    "\n",
    "$$\n",
    "\\begin{equation}\n",
    "E_0 = \\sum_{i} n_i t_{ii} + \\frac{1}{2}\\sum_{ij}n_in_j V_{ijij} + \\frac{1}{6} n_i n_j n_k V_{ijkijk}^{(3)}\n",
    "\\label{_auto1} \\tag{1}\n",
    "\\end{equation}\n",
    "$$"
   ]
  },
  {
   "cell_type": "markdown",
   "metadata": {},
   "source": [
    "<!-- Equation labels as ordinary links -->\n",
    "<div id=\"_auto2\"></div>\n",
    "\n",
    "$$\n",
    "\\begin{equation}\n",
    "f_{pq} = t_{pq} + \\sum_{i}n_i V_{piqi} + \\frac{1}{2} \\sum_{ij}n_i n_j V_{pijqij}^{(3)}\n",
    "\\label{_auto2} \\tag{2}\n",
    "\\end{equation}\n",
    "$$"
   ]
  },
  {
   "cell_type": "markdown",
   "metadata": {},
   "source": [
    "<!-- Equation labels as ordinary links -->\n",
    "<div id=\"_auto3\"></div>\n",
    "\n",
    "$$\n",
    "\\begin{equation}\n",
    "\\Gamma_{pqrs} = V_{pqrs} + \\sum_{i}n_i V_{pqirsi}^{(3)}\n",
    "\\label{_auto3} \\tag{3}\n",
    "\\end{equation}\n",
    "$$"
   ]
  },
  {
   "cell_type": "markdown",
   "metadata": {},
   "source": [
    "<!-- Equation labels as ordinary links -->\n",
    "<div id=\"_auto4\"></div>\n",
    "\n",
    "$$\n",
    "\\begin{equation}\n",
    "W_{pqrstu} = V_{pqrstu}^{(3)}\n",
    "\\label{_auto4} \\tag{4}\n",
    "\\end{equation}\n",
    "$$"
   ]
  },
  {
   "cell_type": "markdown",
   "metadata": {},
   "source": [
    "IMSRG flow equations:"
   ]
  },
  {
   "cell_type": "markdown",
   "metadata": {},
   "source": [
    "<!-- Equation labels as ordinary links -->\n",
    "<div id=\"_auto5\"></div>\n",
    "\n",
    "$$\n",
    "\\begin{equation}\n",
    "\\frac{d}{ds}E_0 = \\sum_{ab} n_a\\bar{n}_b \\left(\\eta_{ab}f_{ba}-f_{ab}\\eta_{ba} \\right)\n",
    "+\\frac{1}{4} \\sum_{abcd} n_a n_b \\bar{n}_c\\bar{n}_d \\left( \\eta_{abcd}\\Gamma_{cdab} - \\Gamma_{abcd}\\eta_{cdab} \\right)\n",
    "\\label{_auto5} \\tag{5}\n",
    "\\end{equation}\n",
    "$$"
   ]
  },
  {
   "cell_type": "markdown",
   "metadata": {},
   "source": [
    "<!-- Equation labels as ordinary links -->\n",
    "<div id=\"_auto6\"></div>\n",
    "\n",
    "$$\n",
    "\\begin{equation}\n",
    "\\begin{aligned}\n",
    "\\frac{d}{ds} f_{ij} = \\sum_{a} \\left(\\eta_{ia}f_{aj}-f_{ia}\\eta_{aj}\\right)\n",
    "&+ \\sum_{ab}(n_a\\bar{n}_b-\\bar{n}_a n_b) \\left(\\eta_{ab}\\Gamma_{biaj}-f_{ab}\\eta_{biaj} \\right)\n",
    "\\\\\n",
    "&+ \\frac{1}{2} \\sum_{abc}(n_an_b\\bar{n}_c + \\bar{n}_a\\bar{n}_bn_c) \\left( \\eta_{ciab}\\Gamma_{abcj} - \\Gamma_{ciab}\\eta_{abcj} \\right)\n",
    "\\end{aligned}\n",
    "\\label{_auto6} \\tag{6}\n",
    "\\end{equation}\n",
    "$$"
   ]
  },
  {
   "cell_type": "markdown",
   "metadata": {},
   "source": [
    "<!-- Equation labels as ordinary links -->\n",
    "<div id=\"_auto7\"></div>\n",
    "\n",
    "$$\n",
    "\\begin{equation}\n",
    "\\begin{aligned}\n",
    "\\frac{d}{ds}\\Gamma_{ijkl} = &\\sum_{a}\\left[ (1-P_{ij}\\left( \\eta_{ia}\\Gamma_{ajkl}-f_{ia}\\eta_{ajkl} \\right) - ( 1-P_{kl}) \\left( \\eta_{ak}\\Gamma_{kjal} - f_{ak}\\eta_{ijal} \\right) \\right]\n",
    "\\\\\n",
    "&+ \\frac{1}{2} \\sum_{ab} (\\bar{n}_a\\bar{n}_b-n_a n_b)\\left( \\eta_{ijab}\\Gamma_{abkl} - \\Gamma_{ijab}\\eta_{abkl} \\right) \\\\\n",
    "&+ (1-P_{ij})(1-P_{kl}) \\sum_{ab}(n_a\\bar{n}_b-\\bar{n}_an_b) \\eta_{aibk}\\Gamma_{bjal}\n",
    "\\end{aligned}\n",
    "\\label{_auto7} \\tag{7}\n",
    "\\end{equation}\n",
    "$$"
   ]
  },
  {
   "cell_type": "markdown",
   "metadata": {},
   "source": [
    "The White generator:"
   ]
  },
  {
   "cell_type": "markdown",
   "metadata": {},
   "source": [
    "<!-- Equation labels as ordinary links -->\n",
    "<div id=\"_auto8\"></div>\n",
    "\n",
    "$$\n",
    "\\begin{equation}\n",
    "\\eta^{\\text{Wh}}_{ai} = \\frac{f_{ai}}{\\Delta_{ai}}\n",
    "\\label{_auto8} \\tag{8}\n",
    "\\end{equation}\n",
    "$$"
   ]
  },
  {
   "cell_type": "markdown",
   "metadata": {},
   "source": [
    "<!-- Equation labels as ordinary links -->\n",
    "<div id=\"_auto9\"></div>\n",
    "\n",
    "$$\n",
    "\\begin{equation}\n",
    "\\eta^{\\text{Wh}}_{abij} = \\frac{\\Gamma_{abij}}{\\Delta_{abij}}\n",
    "\\label{_auto9} \\tag{9}\n",
    "\\end{equation}\n",
    "$$"
   ]
  },
  {
   "cell_type": "markdown",
   "metadata": {},
   "source": [
    "Energy denominators:"
   ]
  },
  {
   "cell_type": "markdown",
   "metadata": {},
   "source": [
    "<!-- Equation labels as ordinary links -->\n",
    "<div id=\"_auto10\"></div>\n",
    "\n",
    "$$\n",
    "\\begin{equation}\n",
    "\\Delta_{ai} = f_{aa} - f_{ii}\n",
    "\\label{_auto10} \\tag{10}\n",
    "\\end{equation}\n",
    "$$"
   ]
  },
  {
   "cell_type": "markdown",
   "metadata": {},
   "source": [
    "<!-- Equation labels as ordinary links -->\n",
    "<div id=\"_auto11\"></div>\n",
    "\n",
    "$$\n",
    "\\begin{equation}\n",
    "\\Delta_{abij} = f_{aa} + f_{bb} - f_{ii} - f_{jj}\n",
    "\\label{_auto11} \\tag{11}\n",
    "\\end{equation}\n",
    "$$"
   ]
  },
  {
   "cell_type": "markdown",
   "metadata": {},
   "source": [
    "Simplification of flow equation for nuclear matter:"
   ]
  },
  {
   "cell_type": "markdown",
   "metadata": {},
   "source": [
    "<!-- Equation labels as ordinary links -->\n",
    "<div id=\"_auto12\"></div>\n",
    "\n",
    "$$\n",
    "\\begin{equation}\n",
    "\\frac{d}{ds}E_0 = \\frac{1}{4} \\sum_{abcd} n_a n_b \\bar{n}_c\\bar{n}_d \\left( \\eta_{abcd}\\Gamma_{cdab} - \\Gamma_{abcd}\\eta_{cdab} \\right)\n",
    "\\label{_auto12} \\tag{12}\n",
    "\\end{equation}\n",
    "$$"
   ]
  },
  {
   "cell_type": "markdown",
   "metadata": {},
   "source": [
    "<!-- Equation labels as ordinary links -->\n",
    "<div id=\"_auto13\"></div>\n",
    "\n",
    "$$\n",
    "\\begin{equation}\n",
    "\\frac{d}{ds} f_{ij} =\n",
    "\\frac{1}{2} \\sum_{abc}(n_an_b\\bar{n}_c + \\bar{n}_a\\bar{n}_bn_c) \\left( \\eta_{ciab}\\Gamma_{abcj} - \\Gamma_{ciab}\\eta_{abcj} \\right)\n",
    "\\label{_auto13} \\tag{13}\n",
    "\\end{equation}\n",
    "$$"
   ]
  },
  {
   "cell_type": "markdown",
   "metadata": {},
   "source": [
    "<!-- Equation labels as ordinary links -->\n",
    "<div id=\"_auto14\"></div>\n",
    "\n",
    "$$\n",
    "\\begin{equation}\n",
    "\\begin{aligned}\n",
    "\\frac{d}{ds}\\Gamma_{ijkl} &= (A_{ii} + A_{jj} - A_{kk} - A_{ll})B_{ijkl} - (B_{ii} + B_{jj} - B_{kk} - B_{ll})A_{ijkl}\n",
    "\\\\\n",
    "&+ \\frac{1}{2} \\sum_{ab} (\\bar{n}_a\\bar{n}_b-n_a n_b)\\left( \\eta_{ijab}\\Gamma_{abkl} - \\Gamma_{ijab}\\eta_{abkl} \\right) \\\\\n",
    "&+ (1-P_{ij})(1-P_{kl}) \\sum_{ab}(n_a\\bar{n}_b-\\bar{n}_an_b) \\eta_{aibk}\\Gamma_{bjal}\n",
    "\\end{aligned}\n",
    "\\label{_auto14} \\tag{14}\n",
    "\\end{equation}\n",
    "$$"
   ]
  },
  {
   "cell_type": "markdown",
   "metadata": {},
   "source": [
    "# Benchmarking the pairing model\n",
    "Pairing model with 4 particles, in 4 doubly degenerate levels, for $\\delta=1$ and $g=+0.5$\n",
    "\n",
    "Solving the IMSRG flow equation with a simple Euler step method with\n",
    "step size $ds = 0.1$.  $E_0$ is the zero-body piece of the flowing\n",
    "Hamiltonian $H(s)$.  EMBPT2 is the second order MBPT energy using\n",
    "$H(s)$, and $dE/ds$ is the zero body part of $[\\eta(s), H(s)]$.\n",
    "\n",
    "<table border=\"1\">\n",
    "<thead>\n",
    "<tr><th align=\"center\">$s$</th> <th align=\"center\"> $E_0$ </th> <th align=\"center\">  EMBPT2  </th> <th align=\"center\"> $dE/ds$  </th> </tr>\n",
    "</thead>\n",
    "<tbody>\n",
    "<tr><td align=\"center\">   0.0    </td> <td align=\"center\">   1.50000    </td> <td align=\"center\">   -0.0623932    </td> <td align=\"center\">   0.0000000     </td> </tr>\n",
    "<tr><td align=\"center\">   0.1    </td> <td align=\"center\">   1.48752    </td> <td align=\"center\">   -0.0531358    </td> <td align=\"center\">   -0.1247860    </td> </tr>\n",
    "<tr><td align=\"center\">   0.2    </td> <td align=\"center\">   1.47689    </td> <td align=\"center\">   -0.0453987    </td> <td align=\"center\">   -0.1062720    </td> </tr>\n",
    "<tr><td align=\"center\">   0.3    </td> <td align=\"center\">   1.46781    </td> <td align=\"center\">   -0.0388940    </td> <td align=\"center\">   -0.0907975    </td> </tr>\n",
    "<tr><td align=\"center\">   0.4    </td> <td align=\"center\">   1.46004    </td> <td align=\"center\">   -0.0333983    </td> <td align=\"center\">   -0.0777880    </td> </tr>\n",
    "<tr><td align=\"center\">   0.5    </td> <td align=\"center\">   1.45336    </td> <td align=\"center\">   -0.0287359    </td> <td align=\"center\">   -0.0667967    </td> </tr>\n",
    "</tbody>\n",
    "</table>\n",
    "\n",
    "The same numbers as before, but now the $[\\eta_2, H_2]_2$\n",
    "particle-hole commutator term is omitted.\n",
    "\n",
    "<table border=\"1\">\n",
    "<thead>\n",
    "<tr><th align=\"center\">$s$</th> <th align=\"center\"> $E_0$ </th> <th align=\"center\">  EMBPT2  </th> <th align=\"center\"> $dE/ds$  </th> </tr>\n",
    "</thead>\n",
    "<tbody>\n",
    "<tr><td align=\"center\">   0      </td> <td align=\"center\">   1.5        </td> <td align=\"center\">   -0.0623932    </td> <td align=\"center\">   0             </td> </tr>\n",
    "<tr><td align=\"center\">   0.1    </td> <td align=\"center\">   1.48752    </td> <td align=\"center\">   -0.0531358    </td> <td align=\"center\">   -0.124786     </td> </tr>\n",
    "<tr><td align=\"center\">   0.2    </td> <td align=\"center\">   1.47689    </td> <td align=\"center\">   -0.0453551    </td> <td align=\"center\">   -0.106272     </td> </tr>\n",
    "<tr><td align=\"center\">   0.3    </td> <td align=\"center\">   1.46782    </td> <td align=\"center\">   -0.0387878    </td> <td align=\"center\">   -0.0907102    </td> </tr>\n",
    "<tr><td align=\"center\">   0.4    </td> <td align=\"center\">   1.46007    </td> <td align=\"center\">   -0.0332251    </td> <td align=\"center\">   -0.0775756    </td> </tr>\n",
    "<tr><td align=\"center\">   0.5    </td> <td align=\"center\">   1.45342    </td> <td align=\"center\">   -0.0284994    </td> <td align=\"center\">   -0.0664503    </td> </tr>\n",
    "<tr><td align=\"center\">   0.6    </td> <td align=\"center\">   1.44772    </td> <td align=\"center\">   -0.0244746    </td> <td align=\"center\">   -0.0569988    </td> </tr>\n",
    "<tr><td align=\"center\">   0.7    </td> <td align=\"center\">   1.44283    </td> <td align=\"center\">   -0.0210395    </td> <td align=\"center\">   -0.0489492    </td> </tr>\n",
    "</tbody>\n",
    "</table>\n",
    "\n",
    "These are the same as before, but with the painful $[\\eta_{2b},\n",
    "H_{2b}]_{2b}$ particle-hole term omitted.\n",
    "\n",
    "<table border=\"1\">\n",
    "<thead>\n",
    "<tr><th align=\"center\">$s$</th> <th align=\"center\">  $E0$ </th> <th align=\"center\">  EMBPT2  </th> <th align=\"center\"> $dE/ds$  </th> </tr>\n",
    "</thead>\n",
    "<tbody>\n",
    "<tr><td align=\"center\">   0.0    </td> <td align=\"center\">   1.50000    </td> <td align=\"center\">   -0.0623932    </td> <td align=\"center\">   0             </td> </tr>\n",
    "<tr><td align=\"center\">   0.1    </td> <td align=\"center\">   1.48752    </td> <td align=\"center\">   -0.0531358    </td> <td align=\"center\">   -0.124786     </td> </tr>\n",
    "<tr><td align=\"center\">   0.2    </td> <td align=\"center\">   1.47689    </td> <td align=\"center\">   -0.0453551    </td> <td align=\"center\">   -0.106272     </td> </tr>\n",
    "<tr><td align=\"center\">   0.3    </td> <td align=\"center\">   1.46782    </td> <td align=\"center\">   -0.0387878    </td> <td align=\"center\">   -0.0907102    </td> </tr>\n",
    "<tr><td align=\"center\">   0.4    </td> <td align=\"center\">   1.46007    </td> <td align=\"center\">   -0.0332251    </td> <td align=\"center\">   -0.0775756    </td> </tr>\n",
    "<tr><td align=\"center\">   0.5    </td> <td align=\"center\">   1.45342    </td> <td align=\"center\">   -0.0284994    </td> <td align=\"center\">   -0.0664503    </td> </tr>\n",
    "</tbody>\n",
    "</table>"
   ]
  }
 ],
 "metadata": {},
 "nbformat": 4,
 "nbformat_minor": 0
}
