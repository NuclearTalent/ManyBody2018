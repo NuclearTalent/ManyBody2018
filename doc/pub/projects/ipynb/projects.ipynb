{
 "cells": [
  {
   "cell_type": "markdown",
   "metadata": {},
   "source": [
    "<!-- dom:TITLE: Project for [Nuclear Talent](http://www.nucleartalent.org) course on *Many-body methods for nuclear physics, from Structure to Reactions* at [Henan Normal University, P.R. China](http://www.htu.cn/english/), July 16-August 5 2018 -->\n",
    "# Project for [Nuclear Talent](http://www.nucleartalent.org) course on *Many-body methods for nuclear physics, from Structure to Reactions* at [Henan Normal University, P.R. China](http://www.htu.cn/english/), July 16-August 5 2018\n",
    "<!-- dom:AUTHOR: Kevin Fossez at [National Superconducting Cyclotron Laboratory](http://www.nscl.msu.edu/), [Michigan State University](http://www.msu.edu/), East Lansing, MI 48824, USA -->\n",
    "<!-- Author: -->  \n",
    "**Kevin Fossez**, [National Superconducting Cyclotron Laboratory](http://www.nscl.msu.edu/), [Michigan State University](http://www.msu.edu/), East Lansing, MI 48824, USA  \n",
    "<!-- dom:AUTHOR: Morten Hjorth-Jensen at [National Superconducting Cyclotron Laboratory](http://www.nscl.msu.edu/) and [Department of Physics and Astronomy](https://www.pa.msu.edu/), [Michigan State University](http://www.msu.edu/), East Lansing, MI 48824, USA -->\n",
    "<!-- Author: --> **Morten Hjorth-Jensen**, [National Superconducting Cyclotron Laboratory](http://www.nscl.msu.edu/) and [Department of Physics and Astronomy](https://www.pa.msu.edu/), [Michigan State University](http://www.msu.edu/), East Lansing, MI 48824, USA  \n",
    "<!-- dom:AUTHOR: Baishan Hu at [School of Physics, Peking University, Beijing 100871, P.R. China](http://english.pku.edu.cn/) -->\n",
    "<!-- Author: --> **Baishan Hu**, [School of Physics, Peking University, Beijing 100871, P.R. China](http://english.pku.edu.cn/)  \n",
    "<!-- dom:AUTHOR: Weiguang Jiang at [Department of Physics and Astronomy](https://www.phys.utk.edu/), [University of Tennessee](http://www.utk.edu/), Knoxville, TN 37996-1200, USA and [Oak Ridge National Laboratory](http://www.ornl.gov/), Oak Ridge, TN, USA -->\n",
    "<!-- Author: --> **Weiguang Jiang**, [Department of Physics and Astronomy](https://www.phys.utk.edu/), [University of Tennessee](http://www.utk.edu/), Knoxville, TN 37996-1200, USA and [Oak Ridge National Laboratory](http://www.ornl.gov/), Oak Ridge, TN, USA  \n",
    "<!-- dom:AUTHOR: Thomas Papenbrock at [Department of Physics and Astronomy](https://www.phys.utk.edu/), [University of Tennessee](http://www.utk.edu/), Knoxville, TN 37996-1200, USA and [Oak Ridge National Laboratory](http://www.ornl.gov/), Oak Ridge, TN, USA -->\n",
    "<!-- Author: --> **Thomas Papenbrock**, [Department of Physics and Astronomy](https://www.phys.utk.edu/), [University of Tennessee](http://www.utk.edu/), Knoxville, TN 37996-1200, USA and [Oak Ridge National Laboratory](http://www.ornl.gov/), Oak Ridge, TN, USA  \n",
    "<!-- dom:AUTHOR: Ragnar Stroberg at [Departmentof Physics, Reed College](http://www.reed.edu/), Portland, OR, 97202 and [Department of Physics, University of Washington](https://sharepoint.washington.edu/phys/Pages/default.aspx), Seattle, WA 98195-1560, USA -->\n",
    "<!-- Author: --> **Ragnar Stroberg**, [Departmentof Physics, Reed College](http://www.reed.edu/), Portland, OR, 97202 and [Department of Physics, University of Washington](https://sharepoint.washington.edu/phys/Pages/default.aspx), Seattle, WA 98195-1560, USA  \n",
    "<!-- dom:AUTHOR: Zhonghao Sun at [Department of Physics and Astronomy](https://www.phys.utk.edu/), [University of Tennessee](http://www.utk.edu/), Knoxville, TN 37996-1200, USA and [Oak Ridge National Laboratory](http://www.ornl.gov/), Oak Ridge, TN, USA -->\n",
    "<!-- Author: --> **Zhonghao Sun**, [Department of Physics and Astronomy](https://www.phys.utk.edu/), [University of Tennessee](http://www.utk.edu/), Knoxville, TN 37996-1200, USA and [Oak Ridge National Laboratory](http://www.ornl.gov/), Oak Ridge, TN, USA  \n",
    "<!-- dom:AUTHOR: Yu-Min Zhao at [School of Physics and Astronomy, Shanghai Jiao Tong University](http://www.physics.sjtu.edu.cn/en/about/news/3), Shanghai 200240, P.R. China -->\n",
    "<!-- Author: --> **Yu-Min Zhao**, [School of Physics and Astronomy, Shanghai Jiao Tong University](http://www.physics.sjtu.edu.cn/en/about/news/3), Shanghai 200240, P.R. China\n",
    "\n",
    "\n",
    "Date: **Jul 17, 2018**\n",
    "\n",
    "## Introduction\n",
    "\n",
    "An essential element of the Talent courses is to develop a large\n",
    "project(s) which allows you to study and understand theoretical\n",
    "concepts in nuclear physics.  These concepts will in turn allow you to\n",
    "interpret results from experiments and understand the pertinent\n",
    "physics in terms of the underlying forces and laws of motion.\n",
    "\n",
    "Together with the regular lectures in the morning, the hope is that\n",
    "during these three weeks you will be able to write and run a program\n",
    "which implements at least one of the methods discussed during the\n",
    "lectures.  The lectures will also cover additional material which aims\n",
    "at giving you a broader view on what can be achieved with the methods\n",
    "to be discussed. Combined with the 'hands-on' afternoon sessions, the\n",
    "hope is that the lectures and the computational projects will together\n",
    "allow you to achieve these goals.\n",
    "\n",
    "The project is divided in four main parts. The first part deals with\n",
    "a simple pairing model and the development of a shell-model program\n",
    "related to this model.  This program can then serve as a benchmark\n",
    "program for the Coupled Cluster theory and in-medium SRG codes to be\n",
    "developed. The latter form the remaining parts of the project.\n",
    "\n",
    "\n",
    "If you have not used version control before now, it is time to do so.\n",
    "Proper version control is central to a good ethical scientific conduct.\n",
    "We do require that you use some kind of version control software when working on the projects. We recommend strongly [github](https://github.com/). All lectures and additional material are available at the github [address of the course](https://github.com/NuclearTalent/ManyBody2018).\n",
    "\n",
    "Furthermore, before coming to the course, we recommend that you refresh your knowledge on second quantization.\n",
    "\n",
    "## Some basic ingredients for a successful numerical project\n",
    "\n",
    "When building up a numerical project there are several elements you should think of, amongst these we take the liberty of mentioning the following:\n",
    "  1. How to structure a code in terms of functions\n",
    "\n",
    "  2. How to make a module\n",
    "\n",
    "  3. How to read input data flexibly from the command line\n",
    "\n",
    "  4. How to create graphical/web user interfaces\n",
    "\n",
    "  5. How to write unit tests (test functions)\n",
    "\n",
    "  6. How to refactor code in terms of classes (instead of functions only), in our case you think of a system and a solver class\n",
    "\n",
    "  7. How to conduct and automate large-scale numerical experiments\n",
    "\n",
    "  8. How to write scientific reports in various formats (LaTeX, HTML)\n",
    "\n",
    "The conventions and techniques outlined here will save you a lot of time when you incrementally extend software over time from simpler to more complicated problems. In particular, you will benefit from many good habits:\n",
    "1. New code is added in a modular fashion to a library (modules)\n",
    "\n",
    "2. Programs are run through convenient user interfaces\n",
    "\n",
    "3. It takes one quick command to let all your code undergo heavy testing\n",
    "\n",
    "4. Tedious manual work with running programs is automated,\n",
    "\n",
    "5. Your scientific investigations are reproducible, scientific reports with top quality typesetting are produced both for paper and electronic devices.\n",
    "\n",
    "We expect you to form working\n",
    "groups consisting of typically three (or more) participants. Every\n",
    "group should establish its own Github or Gitlab repository for the\n",
    "project.\n",
    "\n",
    "\n",
    "\n",
    "\n",
    "## Part 1, pairing problem\n",
    "\n",
    "In the first part of the  project we will thus work with a simplified Hamiltonian consisting of a one-body operator and a so-called \n",
    " pairing interaction term. It is a model which to a large extent mimicks some central features of\n",
    "atomic nuclei, certain atoms and systems which exhibit superfluiditity or superconductivity.  \n",
    "Pairing plays a central role in nuclear physics, in particular, for identical particles it makes up large fractions of the correlations among particles. The partial wave $^{1}S_0$ of the nucleon-nucleon force plays a central role in setting up pairing correlations in nuclei. Without this particular partial wave, the $J=0$ ground state spin assignment for many nuclei with even numbers of particles would not be possible. \n",
    "\n",
    "\n",
    "We define first the Hamiltonian, with a definition of the model space and\n",
    "the single-particle basis. Thereafter, we present the various steps which are needed to develop a shell-model program for studying the pairing problem.\n",
    "\n",
    "The Hamiltonian acting in the complete Hilbert space (usually infinite\n",
    "dimensional) consists of an unperturbed one-body part, $\\hat{H}_0$,\n",
    "and a perturbation $\\hat{H}_I$. \n",
    "\n",
    "We limit ourselves to at most two-body interactions, our Hamiltonian  is \n",
    "then represented by the following operators"
   ]
  },
  {
   "cell_type": "markdown",
   "metadata": {},
   "source": [
    "<!-- Equation labels as ordinary links -->\n",
    "<div id=\"eq:hamiltonian\"></div>\n",
    "\n",
    "$$\n",
    "\\begin{equation}\n",
    "\\hat{H} = \\hat{H}_0 +\\hat{H}_I=\\sum_{pq}\\langle p |h_0|q\\rangle a_{p}^{\\dagger}a_{q} +\\frac{1}{4}\\sum_{pqrs}\\langle pq| V|rs\\rangle a_{p}^{\\dagger}a_{q}^{\\dagger}a_{s}a_{r},\n",
    "\\label{eq:hamiltonian} \\tag{1}\n",
    "\\end{equation}\n",
    "$$"
   ]
  },
  {
   "cell_type": "markdown",
   "metadata": {},
   "source": [
    "where $a_{p}^{\\dagger}$ and $a_{q}$ etc are standard fermion creation and annihilation operators, respectively,\n",
    "and $pqrs$ represent all possible single-particle quantum numbers. \n",
    "The full single-particle space is defined by the completeness relation\n",
    "$\\hat{1} = \\sum_{p =1}^{\\infty}|p \\rangle \\langle p|$.\n",
    "In our calculations  we will let  the single-particle states $|p\\rangle$\n",
    "be eigenfunctions of  the one-particle operator $\\hat{h}_0$. \n",
    "\n",
    "\n",
    "The above Hamiltonian \n",
    "acts in turn on various many-body Slater determinants constructed from the single-basis defined by the one-body\n",
    "operator $\\hat{h}_0$.    \n",
    "\n",
    "Our specific model consists of only $2$ doubly-degenerate and equally spaced\n",
    "single-particle levels labeled by $p=1,2,\\dots$ and spin $\\sigma=\\pm\n",
    "1$.  \n",
    "In Eq. ([eq:hamiltonian](#eq:hamiltonian)) the labels $pqrs$ could also include spin $\\sigma$. From now and for the rest of this project, labels like $pqrs$ represent the states without spin. The spin quantum numbers need to be accounted for explicitely.\n",
    "\n",
    "We write\n",
    "the Hamiltonian as"
   ]
  },
  {
   "cell_type": "markdown",
   "metadata": {},
   "source": [
    "$$\n",
    "\\hat{H} = \\hat{H}_0 +\\hat{H}_I=\\hat{H}_0 + \\hat{V} ,\n",
    "$$"
   ]
  },
  {
   "cell_type": "markdown",
   "metadata": {},
   "source": [
    "where"
   ]
  },
  {
   "cell_type": "markdown",
   "metadata": {},
   "source": [
    "$$\n",
    "\\hat{H}_0=\\xi\\sum_{p\\sigma}(p-1)a_{p\\sigma}^{\\dagger}a_{p\\sigma}.\n",
    "$$"
   ]
  },
  {
   "cell_type": "markdown",
   "metadata": {},
   "source": [
    "Here, $H_0$ is the unperturbed Hamiltonian with a spacing between\n",
    "successive single-particle states given by $\\xi$, which we will set to\n",
    "a constant value $\\xi=1$ without loss of generality.\n",
    "\n",
    "The two-body\n",
    "operator $\\hat{V}$ has one term only. It represents the\n",
    "pairing contribution and carries a constant strength $g$\n",
    "and is  given by"
   ]
  },
  {
   "cell_type": "markdown",
   "metadata": {},
   "source": [
    "$$\n",
    "\\langle q+q-| V|s+s-\\rangle  = -g\n",
    "$$"
   ]
  },
  {
   "cell_type": "markdown",
   "metadata": {},
   "source": [
    "where $g$ is a constant. The above labeling means that for a  general matrix elements\n",
    "$\\langle pq| V|rs\\rangle$ we require that the states $p$ and $q$ (and $r$ and $s$) have the same number \n",
    "quantum number $q$ but opposite spins. The two spins values are\n",
    "$\\sigma = \\pm 1$.  \n",
    "When setting up the Hamiltonian matrix you need to figure out how to make the two-body interaction antisymmetric.\n",
    "The variables $\\sigma=\\pm$ represent the two possible spin values. The \n",
    "interaction can only couple pairs and excites therefore only two\n",
    "particles at the time.\n",
    "\n",
    "\n",
    "In our model we have kept both the interaction strength and the single-particle level as constants.\n",
    "In a realistic system like the atomic  nucleus this is not the case. \n",
    "\n",
    "\n",
    "\n",
    "The   unperturbed Hamiltonian  $\\hat{H}_0$ and $\\hat{V}$  commute\n",
    "with  the spin projection $\\hat{S}_z$ and the total spin\n",
    "$\\hat{S}^2$.\n",
    "This is an important feature of our system that allows us to block-diagonalize\n",
    "the full Hamiltonian. In this project we will focus only on total spin $S=0$, this case is normally called the no-broken pair case. \n",
    "\n",
    "### Part 1a: Paper and pencil gym while we wait for the more serious stuff\n",
    "\n",
    "Show that the\n",
    "unperturbed Hamiltonian  $\\hat{H}_0$ and $\\hat{V}$ commute\n",
    "with both the spin projection $\\hat{S}_z$ and the total spin\n",
    "$\\hat{S}^2$, given by"
   ]
  },
  {
   "cell_type": "markdown",
   "metadata": {},
   "source": [
    "$$\n",
    "\\hat{S}_z := \\frac{1}{2}\\sum_{p\\sigma} \\sigma a^{\\dagger}_{p\\sigma}a_{p\\sigma}\n",
    "$$"
   ]
  },
  {
   "cell_type": "markdown",
   "metadata": {},
   "source": [
    "and"
   ]
  },
  {
   "cell_type": "markdown",
   "metadata": {},
   "source": [
    "$$\n",
    "\\hat{S}^2 := \\hat{S}_z^2 + \\frac{1}{2}(\\hat{S}_+\\hat{S}_- +\n",
    "  \\hat{S}_-\\hat{S}_+),\n",
    "$$"
   ]
  },
  {
   "cell_type": "markdown",
   "metadata": {},
   "source": [
    "where"
   ]
  },
  {
   "cell_type": "markdown",
   "metadata": {},
   "source": [
    "$$\n",
    "\\hat{S}_\\pm := \\sum_{p} a^{\\dagger}_{p\\pm} a_{p\\mp}.\n",
    "$$"
   ]
  },
  {
   "cell_type": "markdown",
   "metadata": {},
   "source": [
    "This is an important feature of our system that allows us to block-diagonalize\n",
    "the full Hamiltonian. We will focus on total spin $S=0$.\n",
    "In this case, it is convenient to define the so-called pair creation and pair\n",
    "annihilation operators"
   ]
  },
  {
   "cell_type": "markdown",
   "metadata": {},
   "source": [
    "$$\n",
    "\\hat{P}^{+}_p = a^{\\dagger}_{p+}a^{\\dagger}_{p-},\n",
    "$$"
   ]
  },
  {
   "cell_type": "markdown",
   "metadata": {},
   "source": [
    "and"
   ]
  },
  {
   "cell_type": "markdown",
   "metadata": {},
   "source": [
    "$$\n",
    "\\hat{P}^{-}_p = a_{p-}a_{p+},\n",
    "$$"
   ]
  },
  {
   "cell_type": "markdown",
   "metadata": {},
   "source": [
    "respectively.\n",
    "\n",
    "The Hamiltonian (with $\\xi=1$) we will use can be written as"
   ]
  },
  {
   "cell_type": "markdown",
   "metadata": {},
   "source": [
    "$$\n",
    "\\hat{H}=\\sum_{p\\sigma}(p-1)a_{p\\sigma}^{\\dagger}a_{p\\sigma}\n",
    "-g\\sum_{pq}\\hat{P}^{+}_p\\hat{P}^{-}_q.\n",
    "$$"
   ]
  },
  {
   "cell_type": "markdown",
   "metadata": {},
   "source": [
    "Show  that Hamiltonian commutes with the product of the pair creation and annihilation operators.\n",
    "This model corresponds to a system with no broken pairs. This means that the Hamiltonian can only link two-particle states in so-called spin-reversed states. \n",
    "\n",
    "\n",
    "### Part 1b: Simpler case\n",
    "\n",
    "Assume now that the effective Hilbert space consists only of the two lowest single-particle states and that we have two particles only.\n",
    "Set up the possible two-particle configurations when we have only two single-particle states, that is $p=1$ and $p=2$. \n",
    "Construct thereafter the Hamiltonian matrix using second quantization and for example Wick's theorem \n",
    "for a system with no broken pairs and spin $S=0$ (with projection $S_z=0$) for the case of the two lowest single-particle levels  and two particles only.  This gives you a\n",
    " $2\\times 2$ matrix to be diagonalized. \n",
    "\n",
    "Find the eigenvalues by diagonalizing the Hamiltonian matrix.\n",
    "Vary your results for selected values of $g\\in [-1,1]$ and comment your results.\n",
    "\n",
    "### Part 1c: Setting up the Hamiltonian matrix\n",
    "\n",
    "Construct thereafter the Hamiltonian matrix for a system with no broken pairs and spin $S=0$ for the case of the four lowest single-particle levels. Our system consists of four particles only.\n",
    "Our single-particle space consists of only the four lowest levels \n",
    "$p=1,2,3,4$.  You need to set up all possible Slater determinants and the Hamiltonian matrix using second quantization and\n",
    "find all eigenvalues by diagonalizing the Hamiltonian matrix.\n",
    "Vary your results for values of $g\\in [-1,1]$.  Your Hamiltonian matrix is a $6\\times 6$ matrix. \n",
    "These results will serve as a benchmark for the construction  of our shell-model program and the CC and IMSRG programs.\n",
    "We  refer to this as the exact results. Comment the behavior of the ground state as function of $g$. \n",
    "\n",
    "To help, your final Hamiltonian matrix reads"
   ]
  },
  {
   "cell_type": "markdown",
   "metadata": {},
   "source": [
    "$$\n",
    "H = \\left (\n",
    "\\begin{array}{cccccc}\n",
    "2\\delta -2g & -g & -g & -g & -g & 0 \\\\\n",
    " -g & 4\\delta -2g & -g & -g & -0 & -g \\\\\n",
    "-g & -g & 6\\delta -2g & 0 & -g & -g \\\\\n",
    " -g & -g & 0 & 6\\delta-2g & -g & -g \\\\\n",
    " -g & 0 & -g & -g & 8\\delta-2g & -g \\\\\n",
    "0 & -g & -g & -g & -g & 10\\delta -2g\n",
    "\\end{array} \\right )\n",
    "$$"
   ]
  },
  {
   "cell_type": "markdown",
   "metadata": {},
   "source": [
    "### Part 1d: Diagonalizing the Hamiltonian matrix\n",
    "\n",
    "Our next step is to develop a code which sets up the above Hamiltonian matrices for two and four particles in 2 and 4 single-particles states (the same as what you did in exercises b) and c) and obtain the eigenvalues.\n",
    "To achieve this you should\n",
    "\n",
    "* Decide whether you want to read from file the single-particle data and the matrix elements in $m$-scheme, or set them up internally in your code. The latter is the simplest possibility for the pairing model, whereas the first option gives you a more general code which can be extended to the more realistic cases discussed in the second part. \n",
    "\n",
    "* Based on the single-particle basis, write a function which sets up all possible Slater determinants which have total $M=0$.  Test that this function  reproduces the cases in b) and c). If you make this function more general, it can then be reused for say a shell-model calculation of $sd$-shell nuclei in the second part.\n",
    "\n",
    "* Use the Slater determinant basis from the previous step to set up the Hamiltonian matrix.\n",
    "\n",
    "* With the Hamiltonian matrix, you can finally diagonalize the matrix and obtain the final eigenvalues and test against the results of b) and c).\n",
    "\n",
    "Codes to diagonalize in C++ or Fortran can be provided. For Python, numpy contains eigenvalue solvers based on for example Householder's and Givens' algorithms.   These are topics which can we discuss separately. The lecture slides contain a rather detailed recipe\n",
    "on how to construct a Slater determinant basis and how to set up the Hamiltonian matrix to diagonalize.\n",
    "\n",
    "### Part 1e: Further benchmarks and optional part\n",
    "\n",
    "In developing the code it also useful to test against cases which have closed-form solutions. One obvious case is that of removing the \n",
    "two-body interaction. Then we have only the single-particle energies.\n",
    "For the case of degenerate single-particle orbits, that is one value of total single-particle angular momentum only $j$, with degeneracy $\\Omega=2j+1$, one can show that the ground state energy $E_0$ is with $n$ particles"
   ]
  },
  {
   "cell_type": "markdown",
   "metadata": {},
   "source": [
    "$$\n",
    "E_0= -\\frac{g}{4}n\\left(\\Omega-n+2\\right).\n",
    "$$"
   ]
  },
  {
   "cell_type": "markdown",
   "metadata": {},
   "source": [
    "Challenge: Enlarge now your system to six and eight fermions and to $p=6$ and $p=8$ single-particle states, respectively. Run your program for a degenerate single-particle state with degeneracy $\\Omega$ and test\n",
    "against the exact result for the ground state. Introduce thereafter a finite single-particle spacing and study the results as you vary $g$,  as done in b) and c). Comment your results. \n",
    "\n",
    "\n",
    "\n",
    "\n",
    "\n",
    "\n",
    "\n",
    "## Part 2: Coupled cluster calculations with doubles excitations only for the pairing model\n",
    "\n",
    "This project serves as a continuation\n",
    "of the pairing model with the aim being to solve the same problem but\n",
    "now by developing a program that implements the coupled cluster method\n",
    "with double excitations only. In doing so you will find it convenient\n",
    "to write classes which define the single-particle basis and the\n",
    "Hamiltonian. Your functions that solve the coupled cluster equations\n",
    "will then just need to set up variables which point to interaction\n",
    "elements and single-particle states with their pertinent quantum\n",
    "numbers. Use for example the setup discussed in the FCI lectures for\n",
    "the pairing model.\n",
    "\n",
    "\n",
    "1. Explain why no single excitations are involved in this model.\n",
    "\n",
    "2. Set up the coupled cluster equations for doubles excitations and convince yourself about their meaning and correctness.\n",
    "\n",
    "3. Write a class which holds single-particle data like specific quantum numbers, single-particle Hamiltonian etc. Write also a class which sets up and stores two-body matrix elements defined by the single-particle states.  Write thereafter functions/classes which implement the coupled cluster method with doubles only.\n",
    "\n",
    "4. Compare your results with tose from the exact diagonalization with and without the $4p4h$ excitation. Compare also your results to perturbation theory at different orders, in particular to second order. Discuss your results.\n",
    "\n",
    "## Part 3: Coupled cluster calculations with doubles excitations only for infinite nuclear matter\n",
    "\n",
    "This project forms one possible final path for the remaining two weeks. It can also be extended in order to define the final project.  You should be able to use the program you developed in connection with the\n",
    "solution of the pairing model.\n",
    "\n",
    "1. Explain why we don't have single excitations in infinite matter.\n",
    "\n",
    "2. Set up the relavent quantum numbers for a cartesian basis with plane waves in three dimensions. Make the according changes to the code you developed in connection with the pairing model. Implement periodic boundary conditions.\n",
    "\n",
    "3. Replace the two-body interaction from the pairing model with the Minnesota potential model discussed during the [lectures](https://github.com/NuclearTalent/Course2ManyBodyMethods/blob/master/doc/pub/cc/pdf/Lectures1-2_TALENT_NuclearMatter_GH.pdf).\n",
    "\n",
    "4. Use the program you developed in connection with the pairing model to perform coupled cluster calculations in infinite matter with doubles excitations. Perform coupled cluster calculations for infinite neutron matter with the Minnesota interaction for $N=14$ neutrons. Limit yourself to two-particle and two-hole intermediate excitations only.\n",
    "\n",
    "## Part 4: IMSRG code for the pairing model and infinite matter\n",
    "\n",
    "Our final step consists in modifying the above program in order to include the IMSRG method, applying it to both the pairing model and infinite neutron matter.\n",
    "Compare your results with those obtained with Coupled Cluster theory and comment your results obtained with the pairing model as well as those for  infinite neutron matter."
   ]
  }
 ],
 "metadata": {},
 "nbformat": 4,
 "nbformat_minor": 2
}
